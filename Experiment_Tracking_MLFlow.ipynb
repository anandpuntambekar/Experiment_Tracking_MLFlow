{
 "cells": [
  {
   "attachments": {},
   "cell_type": "markdown",
   "metadata": {},
   "source": [
    "# Tracking ML Experiment using MLFlow"
   ]
  },
  {
   "attachments": {},
   "cell_type": "markdown",
   "metadata": {},
   "source": [
    "- MLflow provides a comprehensive solution for managing the machine learning workflow, including experimentation and deployment\n",
    "- MLflow allows for tracking and organizing experiments in a centralized place, reducing the need for suboptimal solutions such as Excel\n",
    "- With MLflow, it is possible to log and reproduce past runs and results, allowing for iterative improvements\n",
    "- MLflow helps to manage and store important information for each experiment, such as hyperparameters, models, accuracy, charts, and AUC curves\n",
    "- By using MLflow for tracking experiments, it is possible to ensure legal compliance, such as GDPR, when dealing with sensitive data\n"
   ]
  },
  {
   "cell_type": "code",
   "execution_count": 1,
   "metadata": {},
   "outputs": [],
   "source": [
    "import pandas as pd\n",
    "import numpy as np"
   ]
  },
  {
   "cell_type": "code",
   "execution_count": 2,
   "metadata": {},
   "outputs": [
    {
     "data": {
      "text/html": [
       "<div>\n",
       "<style scoped>\n",
       "    .dataframe tbody tr th:only-of-type {\n",
       "        vertical-align: middle;\n",
       "    }\n",
       "\n",
       "    .dataframe tbody tr th {\n",
       "        vertical-align: top;\n",
       "    }\n",
       "\n",
       "    .dataframe thead th {\n",
       "        text-align: right;\n",
       "    }\n",
       "</style>\n",
       "<table border=\"1\" class=\"dataframe\">\n",
       "  <thead>\n",
       "    <tr style=\"text-align: right;\">\n",
       "      <th></th>\n",
       "      <th>Loan_ID</th>\n",
       "      <th>Gender</th>\n",
       "      <th>Married</th>\n",
       "      <th>Dependents</th>\n",
       "      <th>Education</th>\n",
       "      <th>Self_Employed</th>\n",
       "      <th>ApplicantIncome</th>\n",
       "      <th>CoapplicantIncome</th>\n",
       "      <th>LoanAmount</th>\n",
       "      <th>Loan_Amount_Term</th>\n",
       "      <th>Credit_History</th>\n",
       "      <th>Property_Area</th>\n",
       "      <th>Loan_Status</th>\n",
       "    </tr>\n",
       "  </thead>\n",
       "  <tbody>\n",
       "    <tr>\n",
       "      <th>0</th>\n",
       "      <td>LP002529</td>\n",
       "      <td>Male</td>\n",
       "      <td>Yes</td>\n",
       "      <td>2</td>\n",
       "      <td>Graduate</td>\n",
       "      <td>No</td>\n",
       "      <td>6700</td>\n",
       "      <td>1750.0</td>\n",
       "      <td>230.0</td>\n",
       "      <td>300.0</td>\n",
       "      <td>1.0</td>\n",
       "      <td>Semiurban</td>\n",
       "      <td>Y</td>\n",
       "    </tr>\n",
       "    <tr>\n",
       "      <th>1</th>\n",
       "      <td>LP001385</td>\n",
       "      <td>Male</td>\n",
       "      <td>No</td>\n",
       "      <td>0</td>\n",
       "      <td>Graduate</td>\n",
       "      <td>No</td>\n",
       "      <td>5316</td>\n",
       "      <td>0.0</td>\n",
       "      <td>136.0</td>\n",
       "      <td>360.0</td>\n",
       "      <td>1.0</td>\n",
       "      <td>Urban</td>\n",
       "      <td>Y</td>\n",
       "    </tr>\n",
       "    <tr>\n",
       "      <th>2</th>\n",
       "      <td>LP001926</td>\n",
       "      <td>Male</td>\n",
       "      <td>Yes</td>\n",
       "      <td>0</td>\n",
       "      <td>Graduate</td>\n",
       "      <td>No</td>\n",
       "      <td>3704</td>\n",
       "      <td>2000.0</td>\n",
       "      <td>120.0</td>\n",
       "      <td>360.0</td>\n",
       "      <td>1.0</td>\n",
       "      <td>Rural</td>\n",
       "      <td>Y</td>\n",
       "    </tr>\n",
       "    <tr>\n",
       "      <th>3</th>\n",
       "      <td>LP001144</td>\n",
       "      <td>Male</td>\n",
       "      <td>Yes</td>\n",
       "      <td>0</td>\n",
       "      <td>Graduate</td>\n",
       "      <td>No</td>\n",
       "      <td>5821</td>\n",
       "      <td>0.0</td>\n",
       "      <td>144.0</td>\n",
       "      <td>360.0</td>\n",
       "      <td>1.0</td>\n",
       "      <td>Urban</td>\n",
       "      <td>Y</td>\n",
       "    </tr>\n",
       "    <tr>\n",
       "      <th>4</th>\n",
       "      <td>LP002562</td>\n",
       "      <td>Male</td>\n",
       "      <td>Yes</td>\n",
       "      <td>1</td>\n",
       "      <td>Not Graduate</td>\n",
       "      <td>No</td>\n",
       "      <td>5333</td>\n",
       "      <td>1131.0</td>\n",
       "      <td>186.0</td>\n",
       "      <td>360.0</td>\n",
       "      <td>NaN</td>\n",
       "      <td>Urban</td>\n",
       "      <td>Y</td>\n",
       "    </tr>\n",
       "  </tbody>\n",
       "</table>\n",
       "</div>"
      ],
      "text/plain": [
       "    Loan_ID Gender Married Dependents     Education Self_Employed  \\\n",
       "0  LP002529   Male     Yes          2      Graduate            No   \n",
       "1  LP001385   Male      No          0      Graduate            No   \n",
       "2  LP001926   Male     Yes          0      Graduate            No   \n",
       "3  LP001144   Male     Yes          0      Graduate            No   \n",
       "4  LP002562   Male     Yes          1  Not Graduate            No   \n",
       "\n",
       "   ApplicantIncome  CoapplicantIncome  LoanAmount  Loan_Amount_Term  \\\n",
       "0             6700             1750.0       230.0             300.0   \n",
       "1             5316                0.0       136.0             360.0   \n",
       "2             3704             2000.0       120.0             360.0   \n",
       "3             5821                0.0       144.0             360.0   \n",
       "4             5333             1131.0       186.0             360.0   \n",
       "\n",
       "   Credit_History Property_Area Loan_Status  \n",
       "0             1.0     Semiurban           Y  \n",
       "1             1.0         Urban           Y  \n",
       "2             1.0         Rural           Y  \n",
       "3             1.0         Urban           Y  \n",
       "4             NaN         Urban           Y  "
      ]
     },
     "execution_count": 2,
     "metadata": {},
     "output_type": "execute_result"
    }
   ],
   "source": [
    "train_df=pd.read_csv(\"/workspaces/Experiment_Tracking_MLFlow/data/data.csv\")\n",
    "train_df.head()"
   ]
  },
  {
   "cell_type": "code",
   "execution_count": 3,
   "metadata": {},
   "outputs": [
    {
     "name": "stdout",
     "output_type": "stream",
     "text": [
      "<class 'pandas.core.frame.DataFrame'>\n",
      "RangeIndex: 430 entries, 0 to 429\n",
      "Data columns (total 13 columns):\n",
      " #   Column             Non-Null Count  Dtype  \n",
      "---  ------             --------------  -----  \n",
      " 0   Loan_ID            430 non-null    object \n",
      " 1   Gender             420 non-null    object \n",
      " 2   Married            427 non-null    object \n",
      " 3   Dependents         416 non-null    object \n",
      " 4   Education          430 non-null    object \n",
      " 5   Self_Employed      410 non-null    object \n",
      " 6   ApplicantIncome    430 non-null    int64  \n",
      " 7   CoapplicantIncome  430 non-null    float64\n",
      " 8   LoanAmount         414 non-null    float64\n",
      " 9   Loan_Amount_Term   422 non-null    float64\n",
      " 10  Credit_History     394 non-null    float64\n",
      " 11  Property_Area      430 non-null    object \n",
      " 12  Loan_Status        430 non-null    object \n",
      "dtypes: float64(4), int64(1), object(8)\n",
      "memory usage: 43.8+ KB\n"
     ]
    }
   ],
   "source": [
    "train_df.info()"
   ]
  },
  {
   "attachments": {},
   "cell_type": "markdown",
   "metadata": {},
   "source": [
    "## Binary Encoding of Categorical Variables"
   ]
  },
  {
   "cell_type": "code",
   "execution_count": 4,
   "metadata": {},
   "outputs": [],
   "source": [
    "train_df['Gender']= train_df['Gender'].map({'Male':0, 'Female':1})\n",
    "train_df['Married']= train_df['Married'].map({'No':0, 'Yes':1})\n",
    "train_df['Loan_Status']= train_df['Loan_Status'].map({'N':0, 'Y':1})"
   ]
  },
  {
   "attachments": {},
   "cell_type": "markdown",
   "metadata": {},
   "source": [
    "## Checking for Missing Values"
   ]
  },
  {
   "cell_type": "code",
   "execution_count": 5,
   "metadata": {},
   "outputs": [
    {
     "data": {
      "text/plain": [
       "Loan_ID               0\n",
       "Gender               10\n",
       "Married               3\n",
       "Dependents           14\n",
       "Education             0\n",
       "Self_Employed        20\n",
       "ApplicantIncome       0\n",
       "CoapplicantIncome     0\n",
       "LoanAmount           16\n",
       "Loan_Amount_Term      8\n",
       "Credit_History       36\n",
       "Property_Area         0\n",
       "Loan_Status           0\n",
       "dtype: int64"
      ]
     },
     "execution_count": 5,
     "metadata": {},
     "output_type": "execute_result"
    }
   ],
   "source": [
    "train_df.isnull().sum()"
   ]
  },
  {
   "cell_type": "code",
   "execution_count": 6,
   "metadata": {},
   "outputs": [
    {
     "data": {
      "text/plain": [
       "Loan_ID              0\n",
       "Gender               0\n",
       "Married              0\n",
       "Dependents           0\n",
       "Education            0\n",
       "Self_Employed        0\n",
       "ApplicantIncome      0\n",
       "CoapplicantIncome    0\n",
       "LoanAmount           0\n",
       "Loan_Amount_Term     0\n",
       "Credit_History       0\n",
       "Property_Area        0\n",
       "Loan_Status          0\n",
       "dtype: int64"
      ]
     },
     "execution_count": 6,
     "metadata": {},
     "output_type": "execute_result"
    }
   ],
   "source": [
    "## dropping all the missing values\n",
    "train_df = train_df.dropna()\n",
    "train_df.isnull().sum()"
   ]
  },
  {
   "attachments": {},
   "cell_type": "markdown",
   "metadata": {},
   "source": [
    "## Segregating the target variable from the features"
   ]
  },
  {
   "cell_type": "code",
   "execution_count": 7,
   "metadata": {},
   "outputs": [
    {
     "data": {
      "text/plain": [
       "((335, 5), (335,))"
      ]
     },
     "execution_count": 7,
     "metadata": {},
     "output_type": "execute_result"
    }
   ],
   "source": [
    "X = train_df[['Gender', 'Married', 'ApplicantIncome', 'LoanAmount', 'Credit_History']]\n",
    "y = train_df.Loan_Status\n",
    "X.shape, y.shape"
   ]
  },
  {
   "attachments": {},
   "cell_type": "markdown",
   "metadata": {},
   "source": [
    "## Splitting the data"
   ]
  },
  {
   "cell_type": "code",
   "execution_count": 8,
   "metadata": {},
   "outputs": [],
   "source": [
    "from sklearn.model_selection import train_test_split\n",
    "\n",
    "X_train, X_val, y_train, y_val = train_test_split(X, y, test_size=0.2, random_state=5)"
   ]
  },
  {
   "attachments": {},
   "cell_type": "markdown",
   "metadata": {},
   "source": [
    "## Model Training"
   ]
  },
  {
   "cell_type": "code",
   "execution_count": 9,
   "metadata": {},
   "outputs": [
    {
     "data": {
      "text/html": [
       "<style>#sk-container-id-1 {color: black;background-color: white;}#sk-container-id-1 pre{padding: 0;}#sk-container-id-1 div.sk-toggleable {background-color: white;}#sk-container-id-1 label.sk-toggleable__label {cursor: pointer;display: block;width: 100%;margin-bottom: 0;padding: 0.3em;box-sizing: border-box;text-align: center;}#sk-container-id-1 label.sk-toggleable__label-arrow:before {content: \"▸\";float: left;margin-right: 0.25em;color: #696969;}#sk-container-id-1 label.sk-toggleable__label-arrow:hover:before {color: black;}#sk-container-id-1 div.sk-estimator:hover label.sk-toggleable__label-arrow:before {color: black;}#sk-container-id-1 div.sk-toggleable__content {max-height: 0;max-width: 0;overflow: hidden;text-align: left;background-color: #f0f8ff;}#sk-container-id-1 div.sk-toggleable__content pre {margin: 0.2em;color: black;border-radius: 0.25em;background-color: #f0f8ff;}#sk-container-id-1 input.sk-toggleable__control:checked~div.sk-toggleable__content {max-height: 200px;max-width: 100%;overflow: auto;}#sk-container-id-1 input.sk-toggleable__control:checked~label.sk-toggleable__label-arrow:before {content: \"▾\";}#sk-container-id-1 div.sk-estimator input.sk-toggleable__control:checked~label.sk-toggleable__label {background-color: #d4ebff;}#sk-container-id-1 div.sk-label input.sk-toggleable__control:checked~label.sk-toggleable__label {background-color: #d4ebff;}#sk-container-id-1 input.sk-hidden--visually {border: 0;clip: rect(1px 1px 1px 1px);clip: rect(1px, 1px, 1px, 1px);height: 1px;margin: -1px;overflow: hidden;padding: 0;position: absolute;width: 1px;}#sk-container-id-1 div.sk-estimator {font-family: monospace;background-color: #f0f8ff;border: 1px dotted black;border-radius: 0.25em;box-sizing: border-box;margin-bottom: 0.5em;}#sk-container-id-1 div.sk-estimator:hover {background-color: #d4ebff;}#sk-container-id-1 div.sk-parallel-item::after {content: \"\";width: 100%;border-bottom: 1px solid gray;flex-grow: 1;}#sk-container-id-1 div.sk-label:hover label.sk-toggleable__label {background-color: #d4ebff;}#sk-container-id-1 div.sk-serial::before {content: \"\";position: absolute;border-left: 1px solid gray;box-sizing: border-box;top: 0;bottom: 0;left: 50%;z-index: 0;}#sk-container-id-1 div.sk-serial {display: flex;flex-direction: column;align-items: center;background-color: white;padding-right: 0.2em;padding-left: 0.2em;position: relative;}#sk-container-id-1 div.sk-item {position: relative;z-index: 1;}#sk-container-id-1 div.sk-parallel {display: flex;align-items: stretch;justify-content: center;background-color: white;position: relative;}#sk-container-id-1 div.sk-item::before, #sk-container-id-1 div.sk-parallel-item::before {content: \"\";position: absolute;border-left: 1px solid gray;box-sizing: border-box;top: 0;bottom: 0;left: 50%;z-index: -1;}#sk-container-id-1 div.sk-parallel-item {display: flex;flex-direction: column;z-index: 1;position: relative;background-color: white;}#sk-container-id-1 div.sk-parallel-item:first-child::after {align-self: flex-end;width: 50%;}#sk-container-id-1 div.sk-parallel-item:last-child::after {align-self: flex-start;width: 50%;}#sk-container-id-1 div.sk-parallel-item:only-child::after {width: 0;}#sk-container-id-1 div.sk-dashed-wrapped {border: 1px dashed gray;margin: 0 0.4em 0.5em 0.4em;box-sizing: border-box;padding-bottom: 0.4em;background-color: white;}#sk-container-id-1 div.sk-label label {font-family: monospace;font-weight: bold;display: inline-block;line-height: 1.2em;}#sk-container-id-1 div.sk-label-container {text-align: center;}#sk-container-id-1 div.sk-container {/* jupyter's `normalize.less` sets `[hidden] { display: none; }` but bootstrap.min.css set `[hidden] { display: none !important; }` so we also need the `!important` here to be able to override the default hidden behavior on the sphinx rendered scikit-learn.org. See: https://github.com/scikit-learn/scikit-learn/issues/21755 */display: inline-block !important;position: relative;}#sk-container-id-1 div.sk-text-repr-fallback {display: none;}</style><div id=\"sk-container-id-1\" class=\"sk-top-container\"><div class=\"sk-text-repr-fallback\"><pre>RandomForestClassifier(max_depth=4, random_state=5)</pre><b>In a Jupyter environment, please rerun this cell to show the HTML representation or trust the notebook. <br />On GitHub, the HTML representation is unable to render, please try loading this page with nbviewer.org.</b></div><div class=\"sk-container\" hidden><div class=\"sk-item\"><div class=\"sk-estimator sk-toggleable\"><input class=\"sk-toggleable__control sk-hidden--visually\" id=\"sk-estimator-id-1\" type=\"checkbox\" checked><label for=\"sk-estimator-id-1\" class=\"sk-toggleable__label sk-toggleable__label-arrow\">RandomForestClassifier</label><div class=\"sk-toggleable__content\"><pre>RandomForestClassifier(max_depth=4, random_state=5)</pre></div></div></div></div></div>"
      ],
      "text/plain": [
       "RandomForestClassifier(max_depth=4, random_state=5)"
      ]
     },
     "execution_count": 9,
     "metadata": {},
     "output_type": "execute_result"
    }
   ],
   "source": [
    "from sklearn.ensemble import RandomForestClassifier\n",
    "\n",
    "model = RandomForestClassifier(max_depth=4, random_state=5)\n",
    "model.fit(X_train, y_train)"
   ]
  },
  {
   "attachments": {},
   "cell_type": "markdown",
   "metadata": {},
   "source": [
    "## Cross Validation"
   ]
  },
  {
   "cell_type": "code",
   "execution_count": 10,
   "metadata": {},
   "outputs": [
    {
     "data": {
      "text/plain": [
       "0.7313432835820896"
      ]
     },
     "execution_count": 10,
     "metadata": {},
     "output_type": "execute_result"
    }
   ],
   "source": [
    "from sklearn.metrics import accuracy_score\n",
    "\n",
    "pred_val = model.predict(X_val)\n",
    "accuracy_score(y_val, pred_val)"
   ]
  },
  {
   "cell_type": "code",
   "execution_count": 11,
   "metadata": {},
   "outputs": [
    {
     "data": {
      "text/plain": [
       "0.8134328358208955"
      ]
     },
     "execution_count": 11,
     "metadata": {},
     "output_type": "execute_result"
    }
   ],
   "source": [
    "pred_train = model.predict(X_train)\n",
    "accuracy_score(y_train, pred_train)"
   ]
  },
  {
   "attachments": {},
   "cell_type": "markdown",
   "metadata": {},
   "source": [
    "### We successfully developed a model, but now that we have a new set of data, what are the steps we should take to continue working with it\n",
    "\n",
    "- One approach to working with a new set of data is to change the data and rerun the code, but this results in the loss of output and results from the old data\n",
    "- Another approach is to create new cells in the same file to create a new model with the new data, but this can make it difficult to find a specific experiment when many are conducted\n",
    "- A third approach is to create new files for each experiment, which can help to keep experiments organized, but still requires manual comparison of results and outputs in each file."
   ]
  },
  {
   "cell_type": "markdown",
   "metadata": {},
   "source": []
  },
  {
   "attachments": {},
   "cell_type": "markdown",
   "metadata": {},
   "source": [
    "The current methods for tracking work and experiments are not ideal and we need to establish a more effective solution. We require something that is easy to manage, displays results and metrics clearly, and logs changes and hyperparameters in a concise manner."
   ]
  },
  {
   "attachments": {},
   "cell_type": "markdown",
   "metadata": {},
   "source": [
    "# MLFlow open source platform for Machine learning life cycle.\n",
    " - Manage life cycle project\n",
    "  - Track & store data\n",
    "  - Store data, parameters, metrics, Artifacts\n",
    "\n",
    "- All displayed in a web UI\n",
    "\n",
    "- MLFLow is API based tool - logging metrics, code version, integrated with UI\n",
    "- Each MLFlow Tracking session would store eveything for one single model Run\n",
    "- 1 Run serves as execution of code we have written\n",
    "- All runs which we run - will be stored in dir where code session is executed\n",
    "- If we are working in a team it can be stored in S3 bucket / Host / on cloud\n",
    " "
   ]
  },
  {
   "cell_type": "code",
   "execution_count": 12,
   "metadata": {},
   "outputs": [],
   "source": [
    "import mlflow\n",
    "import os"
   ]
  },
  {
   "attachments": {},
   "cell_type": "markdown",
   "metadata": {},
   "source": [
    "- The problem when we are solving with random forest model will be 1 single experiment . We will have multiple runs. \n",
    "- Experiment: {Run, Run... Run}\n",
    "- Experiment basically let us help us search for and visualise the run as well and download the run atrifact and meta data for analysis."
   ]
  },
  {
   "attachments": {},
   "cell_type": "markdown",
   "metadata": {},
   "source": [
    "## Set Experiment\n",
    "1. Set the name of the experient when we will perform task\n",
    "2. All the details will be stored in YAML file\n"
   ]
  },
  {
   "cell_type": "code",
   "execution_count": 13,
   "metadata": {},
   "outputs": [
    {
     "data": {
      "text/plain": [
       "<Experiment: artifact_location='file:///workspaces/Experiment_Tracking_MLFlow/mlruns/783665537097489086', creation_time=1675848528656, experiment_id='783665537097489086', last_update_time=1675848528656, lifecycle_stage='active', name='loan_status_mlflow_exp_1', tags={}>"
      ]
     },
     "execution_count": 13,
     "metadata": {},
     "output_type": "execute_result"
    }
   ],
   "source": [
    "mlflow.set_experiment(\"loan_status_mlflow_exp_1\")"
   ]
  },
  {
   "attachments": {},
   "cell_type": "markdown",
   "metadata": {},
   "source": [
    "## There are 3 buckets we use to keep track of Experiments\n",
    "- Parameters -> mlflow.log_params()\n",
    "- Metrics -> mlflow.log_metric()\n",
    "- Artifacts -> mlflow.log_artifact() \n",
    "\n",
    "#### Artifacts are any other files we wish to store. It can be Matrix, Plots, pickle model files"
   ]
  },
  {
   "cell_type": "code",
   "execution_count": 14,
   "metadata": {},
   "outputs": [],
   "source": [
    "with mlflow.start_run():\n",
    "    model_rf= RandomForestClassifier(max_depth=4,random_state=5)\n",
    "    model_rf.fit(X_train,y_train)\n",
    "\n",
    "    ##capturing validation accuracy\n",
    "    pred_val = model_rf.predict(X_val)\n",
    "    val_acc = accuracy_score(y_val, pred_val)\n",
    "\n",
    "    ##capturing trained accuracy\n",
    "    pred_train = model_rf.predict(X_train)\n",
    "    train_acc = accuracy_score(y_train,pred_train)\n",
    "\n",
    "    ##so far no metrics / parms are being tracked\n",
    "\n",
    "    ## Step 1 give unique tag to Run\n",
    "    mlflow.set_tag(\"mlflow.runName\",'First_Run')\n",
    "    \n",
    "    ## Step 2 Lets log parameters\n",
    "    mlflow.log_param('max_depth',4)\n",
    "    mlflow.log_metric('val_acc',val_acc)\n",
    "    mlflow.log_metric('train',train_acc)\n",
    "\n",
    "    #Step 3 Log model\n",
    "    mlflow.sklearn.log_model(model_rf,\"model\")\n",
    "\n",
    "    "
   ]
  },
  {
   "attachments": {},
   "cell_type": "markdown",
   "metadata": {},
   "source": [
    "# We have created the experiment but where is the Dasboard \n",
    "- In the project folder terminal simply type \"mlflow ui\"\n",
    "- A url of type http://127.0.0.1:5000 will come up\n",
    "- Go to the expriment name you were working on \n",
    "- Further if you click on Model you will find date , tags, duration , status, and artifacts\n",
    "- model artifacts get captured on own\n",
    "- Each Model Run will create a directory - in which artifacts metrics parameters and tags are saved\n",
    "- This directory is the source for the web interface\n"
   ]
  },
  {
   "cell_type": "code",
   "execution_count": 22,
   "metadata": {},
   "outputs": [
    {
     "data": {
      "text/html": [
       "<img src=\"https://github.com/anandpuntambekar/Experiment_Tracking_MLFlow/blob/main/images/img1.png?raw=true\"/>"
      ],
      "text/plain": [
       "<IPython.core.display.Image object>"
      ]
     },
     "execution_count": 22,
     "metadata": {},
     "output_type": "execute_result"
    }
   ],
   "source": [
    "from IPython.display import Image\n",
    "Image(url='https://github.com/anandpuntambekar/Experiment_Tracking_MLFlow/blob/main/images/img1.png?raw=true')"
   ]
  },
  {
   "cell_type": "code",
   "execution_count": 23,
   "metadata": {},
   "outputs": [
    {
     "data": {
      "text/html": [
       "<img src=\"https://github.com/anandpuntambekar/Experiment_Tracking_MLFlow/blob/main/images/img2.png?raw=true\"/>"
      ],
      "text/plain": [
       "<IPython.core.display.Image object>"
      ]
     },
     "execution_count": 23,
     "metadata": {},
     "output_type": "execute_result"
    }
   ],
   "source": [
    "Image(url='https://github.com/anandpuntambekar/Experiment_Tracking_MLFlow/blob/main/images/img2.png?raw=true')"
   ]
  },
  {
   "attachments": {},
   "cell_type": "markdown",
   "metadata": {},
   "source": [
    "## Working with new data"
   ]
  },
  {
   "cell_type": "code",
   "execution_count": 15,
   "metadata": {},
   "outputs": [],
   "source": [
    "train_df = pd.read_csv('/workspaces/Experiment_Tracking_MLFlow/data/data_new.csv') \n",
    "train_df.head()\n",
    "\n",
    "train_df['Gender']= train_df['Gender'].map({'Male':0, 'Female':1})\n",
    "train_df['Married']= train_df['Married'].map({'No':0, 'Yes':1})\n",
    "train_df['Loan_Status']= train_df['Loan_Status'].map({'N':0, 'Y':1})\n",
    "\n",
    "train_df = train_df.dropna()\n",
    "\n",
    "X = train_df[['Gender', 'Married', 'ApplicantIncome', 'LoanAmount', 'Credit_History']]\n",
    "y = train_df.Loan_Status\n",
    "X.shape, y.shape\n",
    "\n",
    "from sklearn.model_selection import train_test_split\n",
    "\n",
    "X_train, X_val, y_train, y_val = train_test_split(X, y, test_size=0.2, random_state=5)"
   ]
  },
  {
   "cell_type": "code",
   "execution_count": 16,
   "metadata": {},
   "outputs": [],
   "source": [
    "with mlflow.start_run():\n",
    "    model_rf = RandomForestClassifier(max_depth=4, random_state=5)\n",
    "    model_rf.fit(X_train, y_train)\n",
    "    \n",
    "    pred_val = model_rf.predict(X_val)\n",
    "    val_acc=accuracy_score(y_val, pred_val)\n",
    "    \n",
    "    pred_train = model_rf.predict(X_train)\n",
    "    train_acc=accuracy_score(y_train, pred_train)\n",
    "    \n",
    "    mlflow.set_tag('mlflow.runName','new_data')\n",
    "    mlflow.log_param('max_depth',4)\n",
    "    mlflow.log_metric('val_acc',val_acc)\n",
    "    mlflow.log_metric('train_acc',train_acc)\n",
    "    mlflow.set_tag('data file','data_new.csv')\n",
    "    \n",
    "    mlflow.sklearn.log_model(model_rf, \"model\")"
   ]
  },
  {
   "cell_type": "code",
   "execution_count": 25,
   "metadata": {},
   "outputs": [
    {
     "data": {
      "text/html": [
       "<img src=\"https://github.com/anandpuntambekar/Experiment_Tracking_MLFlow/blob/main/images/img3.png?raw=true\"/>"
      ],
      "text/plain": [
       "<IPython.core.display.Image object>"
      ]
     },
     "execution_count": 25,
     "metadata": {},
     "output_type": "execute_result"
    }
   ],
   "source": [
    "Image(url='https://github.com/anandpuntambekar/Experiment_Tracking_MLFlow/blob/main/images/img3.png?raw=true')"
   ]
  },
  {
   "cell_type": "code",
   "execution_count": 26,
   "metadata": {},
   "outputs": [
    {
     "data": {
      "text/html": [
       "<img src=\"https://github.com/anandpuntambekar/Experiment_Tracking_MLFlow/blob/main/images/img3.png?raw=true\"/>"
      ],
      "text/plain": [
       "<IPython.core.display.Image object>"
      ]
     },
     "execution_count": 26,
     "metadata": {},
     "output_type": "execute_result"
    }
   ],
   "source": [
    "Image(url='https://github.com/anandpuntambekar/Experiment_Tracking_MLFlow/blob/main/images/img3.png?raw=true')"
   ]
  },
  {
   "attachments": {},
   "cell_type": "markdown",
   "metadata": {},
   "source": [
    "## Hyper Parameter Tuning with MLFlow\n"
   ]
  },
  {
   "attachments": {},
   "cell_type": "markdown",
   "metadata": {},
   "source": [
    "In Random Forest we can tune parameters such as "
   ]
  },
  {
   "cell_type": "code",
   "execution_count": 19,
   "metadata": {},
   "outputs": [],
   "source": [
    "\n",
    "def mlflow_runs(n_est,max_dep,i):\n",
    "    with mlflow.start_run():\n",
    "\n",
    "        model_rf = RandomForestClassifier(n_estimators=n_est, max_depth=max_dep, random_state=5)\n",
    "        model_rf.fit(X_train, y_train)\n",
    "\n",
    "        pred_val = model_rf.predict(X_val)\n",
    "        val_acc=accuracy_score(y_val, pred_val)\n",
    "\n",
    "        pred_train = model_rf.predict(X_train)\n",
    "        train_acc=accuracy_score(y_train, pred_train)\n",
    "\n",
    "        run=\"hyperparameter_run_\"+str(i)\n",
    "        mlflow.set_tag('mlflow.runName',run)\n",
    "        mlflow.log_param('n_estimators',n_est)\n",
    "        mlflow.log_param('max_depth',max_dep)\n",
    "        mlflow.log_metric('val_acc',val_acc)\n",
    "        mlflow.log_metric('train_acc',train_acc)\n",
    "        mlflow.set_tag('data file','data_new.csv')\n",
    "\n",
    "        mlflow.sklearn.log_model(model_rf, \"model\")"
   ]
  },
  {
   "cell_type": "code",
   "execution_count": 20,
   "metadata": {},
   "outputs": [],
   "source": [
    "mlflow_runs(10,2,1)\n",
    "mlflow_runs(20,2,2)\n",
    "mlflow_runs(40,2,3)\n",
    "mlflow_runs(10,4,4)\n",
    "mlflow_runs(20,4,5)\n",
    "mlflow_runs(40,4,6)\n",
    "mlflow_runs(10,8,7)\n",
    "mlflow_runs(20,8,8)\n",
    "mlflow_runs(40,8,9)"
   ]
  },
  {
   "cell_type": "code",
   "execution_count": 27,
   "metadata": {},
   "outputs": [
    {
     "data": {
      "text/html": [
       "<img src=\"https://github.com/anandpuntambekar/Experiment_Tracking_MLFlow/blob/main/images/img5.png?raw=true\"/>"
      ],
      "text/plain": [
       "<IPython.core.display.Image object>"
      ]
     },
     "execution_count": 27,
     "metadata": {},
     "output_type": "execute_result"
    }
   ],
   "source": [
    "Image(url='https://github.com/anandpuntambekar/Experiment_Tracking_MLFlow/blob/main/images/img5.png?raw=true')"
   ]
  },
  {
   "cell_type": "code",
   "execution_count": 21,
   "metadata": {},
   "outputs": [
    {
     "data": {
      "image/png": "[encoded data removed]",
      "text/plain": [
       "<Figure size 640x480 with 2 Axes>"
      ]
     },
     "metadata": {},
     "output_type": "display_data"
    }
   ],
   "source": [
    "from sklearn.neighbors import KNeighborsClassifier\n",
    "import matplotlib.pyplot as plt\n",
    "from sklearn.metrics import ConfusionMatrixDisplay\n",
    "\n",
    "with mlflow.start_run():\n",
    "    knn_model= KNeighborsClassifier(n_neighbors=5)\n",
    "    knn_model.fit(X_train, y_train)\n",
    "\n",
    "    pred_val = knn_model.predict(X_val)\n",
    "    val_acc=accuracy_score(y_val, pred_val)\n",
    "\n",
    "    pred_train = knn_model.predict(X_train)\n",
    "    train_acc=accuracy_score(y_train, pred_train)\n",
    "\n",
    "    run=\"KNN\"\n",
    "    mlflow.set_tag('mlflow.runName',run)\n",
    "    mlflow.log_param('neighbors',5)\n",
    "    mlflow.log_metric('val_acc',val_acc)\n",
    "    mlflow.log_metric('train_acc',train_acc)\n",
    "    mlflow.set_tag('data file','data_new.csv')\n",
    "    \n",
    "    cm=ConfusionMatrixDisplay.from_predictions( y_val,pred_val)\n",
    "    cm.figure_.savefig('confusion_mat.png')\n",
    "    mlflow.log_artifact('confusion_mat.png')\n",
    "\n",
    "    mlflow.sklearn.log_model(knn_model, \"model\")"
   ]
  },
  {
   "cell_type": "code",
   "execution_count": 28,
   "metadata": {},
   "outputs": [
    {
     "data": {
      "text/html": [
       "<img src=\"https://github.com/anandpuntambekar/Experiment_Tracking_MLFlow/blob/main/images/img9.png?raw=true\"/>"
      ],
      "text/plain": [
       "<IPython.core.display.Image object>"
      ]
     },
     "execution_count": 28,
     "metadata": {},
     "output_type": "execute_result"
    }
   ],
   "source": [
    "Image(url='https://github.com/anandpuntambekar/Experiment_Tracking_MLFlow/blob/main/images/img9.png?raw=true')"
   ]
  },
  {
   "cell_type": "code",
   "execution_count": 31,
   "metadata": {},
   "outputs": [
    {
     "data": {
      "text/html": [
       "<img src=\"https://github.com/anandpuntambekar/Experiment_Tracking_MLFlow/blob/main/images/img11.png?raw=true\"/>"
      ],
      "text/plain": [
       "<IPython.core.display.Image object>"
      ]
     },
     "execution_count": 31,
     "metadata": {},
     "output_type": "execute_result"
    }
   ],
   "source": [
    " Image(url='https://github.com/anandpuntambekar/Experiment_Tracking_MLFlow/blob/main/images/img11.png?raw=true')"
   ]
  }
 ],
 "metadata": {
  "kernelspec": {
   "display_name": "Python 3 (ipykernel)",
   "language": "python",
   "name": "python3"
  },
  "language_info": {
   "codemirror_mode": {
    "name": "ipython",
    "version": 3
   },
   "file_extension": ".py",
   "mimetype": "text/x-python",
   "name": "python",
   "nbconvert_exporter": "python",
   "pygments_lexer": "ipython3",
   "version": "3.10.4"
  },
  "orig_nbformat": 4,
  "vscode": {
   "interpreter": {
    "hash": "3ad933181bd8a04b432d3370b9dc3b0662ad032c4dfaa4e4f1596c548f763858"
   }
  }
 },
 "nbformat": 4,
 "nbformat_minor": 2
}
